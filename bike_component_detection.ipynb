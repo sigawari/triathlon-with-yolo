{
 "cells": [
  {
   "cell_type": "markdown",
   "id": "d05ae0eb",
   "metadata": {},
   "source": [
    "# Bike Component Detection and Line Drawing\n",
    "\n",
    "This notebook demonstrates how to detect bike components and draw lines using a pre-trained YOLOv5 model."
   ]
  },
  {
   "cell_type": "markdown",
   "id": "6bcbcf0c",
   "metadata": {},
   "source": [
    "## Import Required Libraries\n",
    "\n",
    "Import necessary libraries such as cv2, numpy, and torch."
   ]
  },
  {
   "cell_type": "code",
   "execution_count": 14,
   "id": "07f77aeb",
   "metadata": {},
   "outputs": [],
   "source": [
    "import cv2\n",
    "import numpy as np\n",
    "import torch\n",
    "import os\n",
    "from glob import glob\n",
    "from ultralytics import YOLO  # Make sure ultralytics is installed: pip install ultralytics"
   ]
  },
  {
   "cell_type": "markdown",
   "id": "ba3b94e0",
   "metadata": {},
   "source": [
    "## Define Constants and Keywords\n",
    "\n",
    "Define constants for model path, image path, output path, and keywords for bike components."
   ]
  },
  {
   "cell_type": "code",
   "execution_count": 15,
   "id": "67d9e06c",
   "metadata": {},
   "outputs": [],
   "source": [
    "# Path to the YOLO model (update as needed)\n",
    "MODEL_PATH = 'best.pt'  \n",
    "\n",
    "# Path to test images folder\n",
    "TEST_FOLDER = 'test_bike'\n",
    "\n",
    "# Find all images starting with 'test' and any image extension\n",
    "image_paths = glob(os.path.join(TEST_FOLDER, 'test*.*'))\n",
    "\n",
    "# Path to save output image\n",
    "OUTPUT_PATH = os.path.join(os.getcwd(), 'output_bike.jpg')\n",
    "\n",
    "# Keywords for bike components to detect\n",
    "BIKE_COMPONENT_KEYWORDS = [\n",
    "    'crank', 'saddle', 'f_tire', 'r_tire'\n",
    "]\n",
    "\n",
    "# Flag to use webcam or not\n",
    "USE_WEBCAM = False"
   ]
  },
  {
   "cell_type": "markdown",
   "id": "d5130247",
   "metadata": {},
   "source": [
    "## Helper Functions\n",
    "\n",
    "Define utility functions such as `center_from_box`, `find_class_indices`, and `draw_perpendicular`."
   ]
  },
  {
   "cell_type": "code",
   "execution_count": 16,
   "id": "a5fd80a0",
   "metadata": {},
   "outputs": [],
   "source": [
    "def center_from_box(box):\n",
    "    \"\"\"\n",
    "    Calculate the center (x, y) of a bounding box.\n",
    "    box: [x1, y1, x2, y2]\n",
    "    \"\"\"\n",
    "    x1, y1, x2, y2 = box\n",
    "    cx = int((x1 + x2) / 2)\n",
    "    cy = int((y1 + y2) / 2)\n",
    "    return (cx, cy)\n",
    "\n",
    "def find_class_indices(names, keywords):\n",
    "    \"\"\"\n",
    "    Cari index kelas berdasarkan keyword (case-insensitive).\n",
    "    'names' bisa berupa dict {id: name} atau list [name1, name2, ...].\n",
    "    \"\"\"\n",
    "    indices = []\n",
    "    if isinstance(names, dict):\n",
    "        # names = {0:\"wheel\",1:\"saddle\"}\n",
    "        for idx, nm in names.items():\n",
    "            for kw in keywords:\n",
    "                if kw in nm.lower():\n",
    "                    indices.append(idx)\n",
    "                    break\n",
    "    elif isinstance(names, (list, tuple)):\n",
    "        # names = [\"wheel\",\"saddle\",...]\n",
    "        for idx, nm in enumerate(names):\n",
    "            for kw in keywords:\n",
    "                if kw in nm.lower():\n",
    "                    indices.append(idx)\n",
    "                    break\n",
    "    return indices\n",
    "\n",
    "def draw_perpendicular(img, pt1, pt2, color=(0,255,0), thickness=2, length=40):\n",
    "    \"\"\"\n",
    "    Draw a perpendicular line at the midpoint between pt1 and pt2.\n",
    "    \"\"\"\n",
    "    mid = ((pt1[0]+pt2[0])//2, (pt1[1]+pt2[1])//2)\n",
    "    dx = pt2[0] - pt1[0]\n",
    "    dy = pt2[1] - pt1[1]\n",
    "    norm = np.sqrt(dx**2 + dy**2)\n",
    "    if norm == 0:\n",
    "        return\n",
    "    # Perpendicular direction\n",
    "    perp_dx = -dy / norm\n",
    "    perp_dy = dx / norm\n",
    "    x1 = int(mid[0] + perp_dx * length/2)\n",
    "    y1 = int(mid[1] + perp_dy * length/2)\n",
    "    x2 = int(mid[0] - perp_dx * length/2)\n",
    "    y2 = int(mid[1] - perp_dy * length/2)\n",
    "    cv2.line(img, (x1, y1), (x2, y2), color, thickness)"
   ]
  },
  {
   "cell_type": "markdown",
   "id": "2f28f690",
   "metadata": {},
   "source": [
    "## Model Loading\n",
    "\n",
    "Load the YOLOv5 model using torch.hub and print the class names."
   ]
  },
  {
   "cell_type": "code",
   "execution_count": 17,
   "id": "d260de42",
   "metadata": {},
   "outputs": [
    {
     "name": "stdout",
     "output_type": "stream",
     "text": [
      "Model classes: {0: 'saddle', 1: 'f_tire', 2: 'crank', 3: 'r_tire'}\n"
     ]
    }
   ],
   "source": [
    "# Load YOLO model\n",
    "model = YOLO(MODEL_PATH)\n",
    "model.eval()\n",
    "\n",
    "# Print class names\n",
    "print(\"Model classes:\", model.names)"
   ]
  },
  {
   "cell_type": "markdown",
   "id": "c0501362",
   "metadata": {},
   "source": [
    "## Image Processing\n",
    "\n",
    "Implement the `process_frame` function to handle detection, classification, and drawing on the image."
   ]
  },
  {
   "cell_type": "code",
   "execution_count": 18,
   "id": "9e2f0a67",
   "metadata": {},
   "outputs": [],
   "source": [
    "def process_frame(frame, model, keywords):\n",
    "    \"\"\"\n",
    "    Detect bike components and draw lines on the frame.\n",
    "    \"\"\"\n",
    "    results = model(frame)\n",
    "    names = model.names\n",
    "    # Handle Ultralytics YOLOv8+ results\n",
    "    boxes = results[0].boxes\n",
    "    xyxy = boxes.xyxy.cpu().numpy() if hasattr(boxes, 'xyxy') else []\n",
    "    confs = boxes.conf.cpu().numpy() if hasattr(boxes, 'conf') else []\n",
    "    clss = boxes.cls.cpu().numpy() if hasattr(boxes, 'cls') else []\n",
    "    # Find indices of relevant classes\n",
    "    relevant_indices = find_class_indices(names, keywords)\n",
    "    centers = []\n",
    "    for i in range(len(xyxy)):\n",
    "        x1, y1, x2, y2 = xyxy[i]\n",
    "        conf = confs[i]\n",
    "        cls = int(clss[i])\n",
    "        if cls in relevant_indices:\n",
    "            center = center_from_box([x1, y1, x2, y2])\n",
    "            centers.append((center, names[cls]))\n",
    "            cv2.rectangle(frame, (int(x1), int(y1)), (int(x2), int(y2)), (255,0,0), 2)\n",
    "            label = f\"{names[cls]} {conf:.2f}\"\n",
    "            cv2.putText(frame, label, (int(x1), int(y1)-10), cv2.FONT_HERSHEY_SIMPLEX, 0.7, (255,0,0), 2)\n",
    "    # Example: Draw lines between first two detected components and a perpendicular\n",
    "    if len(centers) >= 2:\n",
    "        pt1, label1 = centers[0]\n",
    "        pt2, label2 = centers[1]\n",
    "        cv2.line(frame, pt1, pt2, (0,255,0), 2)\n",
    "        draw_perpendicular(frame, pt1, pt2, color=(0,0,255), thickness=2)\n",
    "        # Show labels for the connected points\n",
    "        cv2.putText(frame, label1, (pt1[0]+5, pt1[1]-5), cv2.FONT_HERSHEY_SIMPLEX, 0.7, (0,255,0), 2)\n",
    "        cv2.putText(frame, label2, (pt2[0]+5, pt2[1]-5), cv2.FONT_HERSHEY_SIMPLEX, 0.7, (0,255,0), 2)\n",
    "    return frame"
   ]
  },
  {
   "cell_type": "markdown",
   "id": "b8e64694",
   "metadata": {},
   "source": [
    "## Main Execution\n",
    "\n",
    "Handle single image processing and webcam processing based on the `USE_WEBCAM` flag."
   ]
  },
  {
   "cell_type": "code",
   "execution_count": 19,
   "id": "2ffa9875",
   "metadata": {},
   "outputs": [
    {
     "name": "stdout",
     "output_type": "stream",
     "text": [
      "\n",
      "0: 448x640 1 f_tire, 1 r_tire, 583.4ms\n",
      "Speed: 53.1ms preprocess, 583.4ms inference, 4.6ms postprocess per image at shape (1, 3, 448, 640)\n",
      "0: 448x640 1 f_tire, 1 r_tire, 583.4ms\n",
      "Speed: 53.1ms preprocess, 583.4ms inference, 4.6ms postprocess per image at shape (1, 3, 448, 640)\n",
      "✅ Output saved to c:\\Users\\hp\\miniconda3\\envs\\triathlon\\model\\bike_output\\test.jpg\n",
      "\n",
      "✅ Output saved to c:\\Users\\hp\\miniconda3\\envs\\triathlon\\model\\bike_output\\test.jpg\n",
      "\n",
      "0: 384x640 1 saddle, 1 f_tire, 1 crank, 1 r_tire, 888.0ms\n",
      "Speed: 2.9ms preprocess, 888.0ms inference, 9.7ms postprocess per image at shape (1, 3, 384, 640)\n",
      "0: 384x640 1 saddle, 1 f_tire, 1 crank, 1 r_tire, 888.0ms\n",
      "Speed: 2.9ms preprocess, 888.0ms inference, 9.7ms postprocess per image at shape (1, 3, 384, 640)\n",
      "✅ Output saved to c:\\Users\\hp\\miniconda3\\envs\\triathlon\\model\\bike_output\\test.png\n",
      "\n",
      "✅ Output saved to c:\\Users\\hp\\miniconda3\\envs\\triathlon\\model\\bike_output\\test.png\n",
      "\n",
      "0: 640x640 1 f_tire, 2 cranks, 2 r_tires, 1440.8ms\n",
      "Speed: 9.7ms preprocess, 1440.8ms inference, 14.7ms postprocess per image at shape (1, 3, 640, 640)\n",
      "✅ Output saved to c:\\Users\\hp\\miniconda3\\envs\\triathlon\\model\\bike_output\\test1.jpg\n",
      "\n",
      "0: 640x640 1 f_tire, 2 cranks, 2 r_tires, 1440.8ms\n",
      "Speed: 9.7ms preprocess, 1440.8ms inference, 14.7ms postprocess per image at shape (1, 3, 640, 640)\n",
      "✅ Output saved to c:\\Users\\hp\\miniconda3\\envs\\triathlon\\model\\bike_output\\test1.jpg\n",
      "\n",
      "0: 448x640 1 f_tire, 1 crank, 1 r_tire, 597.5ms\n",
      "Speed: 2.7ms preprocess, 597.5ms inference, 4.7ms postprocess per image at shape (1, 3, 448, 640)\n",
      "✅ Output saved to c:\\Users\\hp\\miniconda3\\envs\\triathlon\\model\\bike_output\\test2.jpg\n",
      "\n",
      "0: 448x640 1 f_tire, 1 crank, 1 r_tire, 597.5ms\n",
      "Speed: 2.7ms preprocess, 597.5ms inference, 4.7ms postprocess per image at shape (1, 3, 448, 640)\n",
      "✅ Output saved to c:\\Users\\hp\\miniconda3\\envs\\triathlon\\model\\bike_output\\test2.jpg\n",
      "\n",
      "0: 480x640 1 f_tire, 1 crank, 1 r_tire, 597.1ms\n",
      "Speed: 2.1ms preprocess, 597.1ms inference, 6.7ms postprocess per image at shape (1, 3, 480, 640)\n",
      "0: 480x640 1 f_tire, 1 crank, 1 r_tire, 597.1ms\n",
      "Speed: 2.1ms preprocess, 597.1ms inference, 6.7ms postprocess per image at shape (1, 3, 480, 640)\n",
      "✅ Output saved to c:\\Users\\hp\\miniconda3\\envs\\triathlon\\model\\bike_output\\test3.jpg\n",
      "\n",
      "✅ Output saved to c:\\Users\\hp\\miniconda3\\envs\\triathlon\\model\\bike_output\\test3.jpg\n",
      "\n",
      "0: 384x640 1 saddle, 1 f_tire, 1 crank, 1 r_tire, 504.3ms\n",
      "Speed: 4.3ms preprocess, 504.3ms inference, 6.0ms postprocess per image at shape (1, 3, 384, 640)\n",
      "0: 384x640 1 saddle, 1 f_tire, 1 crank, 1 r_tire, 504.3ms\n",
      "Speed: 4.3ms preprocess, 504.3ms inference, 6.0ms postprocess per image at shape (1, 3, 384, 640)\n",
      "✅ Output saved to c:\\Users\\hp\\miniconda3\\envs\\triathlon\\model\\bike_output\\test4.jpeg\n",
      "\n",
      "✅ Output saved to c:\\Users\\hp\\miniconda3\\envs\\triathlon\\model\\bike_output\\test4.jpeg\n",
      "\n",
      "0: 448x640 1 saddle, 1 f_tire, 1 crank, 1 r_tire, 552.1ms\n",
      "Speed: 3.3ms preprocess, 552.1ms inference, 5.4ms postprocess per image at shape (1, 3, 448, 640)\n",
      "✅ Output saved to c:\\Users\\hp\\miniconda3\\envs\\triathlon\\model\\bike_output\\test5.jpeg\n",
      "\n",
      "0: 448x640 1 saddle, 1 f_tire, 1 crank, 1 r_tire, 552.1ms\n",
      "Speed: 3.3ms preprocess, 552.1ms inference, 5.4ms postprocess per image at shape (1, 3, 448, 640)\n",
      "✅ Output saved to c:\\Users\\hp\\miniconda3\\envs\\triathlon\\model\\bike_output\\test5.jpeg\n",
      "\n",
      "0: 640x640 1 f_tire, 1 r_tire, 964.0ms\n",
      "Speed: 5.7ms preprocess, 964.0ms inference, 6.4ms postprocess per image at shape (1, 3, 640, 640)\n",
      "✅ Output saved to c:\\Users\\hp\\miniconda3\\envs\\triathlon\\model\\bike_output\\test7.jpg\n",
      "0: 640x640 1 f_tire, 1 r_tire, 964.0ms\n",
      "Speed: 5.7ms preprocess, 964.0ms inference, 6.4ms postprocess per image at shape (1, 3, 640, 640)\n",
      "✅ Output saved to c:\\Users\\hp\\miniconda3\\envs\\triathlon\\model\\bike_output\\test7.jpg\n"
     ]
    }
   ],
   "source": [
    "# Folder output\n",
    "OUTPUT_DIR = os.path.join(os.getcwd(), \"bike_output\")\n",
    "os.makedirs(OUTPUT_DIR, exist_ok=True)\n",
    "\n",
    "if USE_WEBCAM:\n",
    "    # Mode webcam\n",
    "    cap = cv2.VideoCapture(0)\n",
    "    frame_count = 0\n",
    "\n",
    "    while True:\n",
    "        ret, frame = cap.read()\n",
    "        if not ret:\n",
    "            break\n",
    "\n",
    "        out_frame = process_frame(frame, model, BIKE_COMPONENT_KEYWORDS)\n",
    "\n",
    "        # Simpan frame tiap beberapa step biar ga kebanyakan file\n",
    "        output_path = os.path.join(OUTPUT_DIR, f\"webcam_frame_{frame_count:04d}.jpg\")\n",
    "        cv2.imwrite(output_path, out_frame)\n",
    "\n",
    "        frame_count += 1\n",
    "\n",
    "        # stop kalau misalnya 100 frame sudah diambil (biar ga infinite loop di notebook)\n",
    "        if frame_count >= 100:\n",
    "            break\n",
    "\n",
    "    cap.release()\n",
    "    cv2.destroyAllWindows()\n",
    "    print(f\"✅ {frame_count} frames saved to {OUTPUT_DIR}\")\n",
    "\n",
    "else:\n",
    "    # Mode gambar (batch)\n",
    "    for IMAGE_PATH in image_paths:\n",
    "        img = cv2.imread(IMAGE_PATH)\n",
    "        if img is None:\n",
    "            print(f\"❌ Image not found at {IMAGE_PATH}, skipping.\")\n",
    "            continue\n",
    "\n",
    "        out_img = process_frame(img, model, BIKE_COMPONENT_KEYWORDS)\n",
    "\n",
    "        # Simpan hasil ke folder dengan nama asli\n",
    "        filename = os.path.basename(IMAGE_PATH)\n",
    "        output_path = os.path.join(OUTPUT_DIR, filename)\n",
    "        cv2.imwrite(output_path, out_img)\n",
    "\n",
    "        print(f\"✅ Output saved to {output_path}\")\n"
   ]
  }
 ],
 "metadata": {
  "kernelspec": {
   "display_name": "triathlon",
   "language": "python",
   "name": "python3"
  },
  "language_info": {
   "codemirror_mode": {
    "name": "ipython",
    "version": 3
   },
   "file_extension": ".py",
   "mimetype": "text/x-python",
   "name": "python",
   "nbconvert_exporter": "python",
   "pygments_lexer": "ipython3",
   "version": "3.10.18"
  }
 },
 "nbformat": 4,
 "nbformat_minor": 5
}
